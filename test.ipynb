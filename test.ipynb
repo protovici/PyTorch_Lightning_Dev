{
 "cells": [
  {
   "cell_type": "code",
   "execution_count": null,
   "metadata": {},
   "outputs": [],
   "source": []
  },
  {
   "cell_type": "code",
   "execution_count": null,
   "metadata": {},
   "outputs": [],
   "source": [
    "import os\n",
    "import shutil\n",
    "import opendatasets as od\n",
    "import pandas as pd\n",
    "import numpy as np\n",
    "from PIL import Image\n",
    "from google.colab import drive\n",
    "from sklearn.metrics import confusion_matrix\n",
    "from sklearn.model_selection import train_test_split\n",
    "import matplotlib.pyplot as plt\n",
    "import torch\n",
    "from torch import nn, optim\n",
    "from torch.utils.data import DataLoader, Dataset\n",
    "from torch.utils.data.sampler import SubsetRandomSampler\n",
    "from torchvision.datasets import ImageFolder\n",
    "import torchvision.transforms as T\n",
    "from torchvision.utils import make_grid\n",
    "from torchmetrics.functional import accuracy\n",
    "import pytorch_lightning as pl\n",
    "from google.colab import drive"
   ]
  },
  {
   "cell_type": "code",
   "execution_count": null,
   "metadata": {},
   "outputs": [],
   "source": [
    "class LoadCancerDataset(Dataset):\n",
    "  def __init__(self, data_folder, transform = T.Compose([T.CenterCrop(32),T.ToTensor()]), dict_labels={}):\n",
    "    self.data_folder = data_folder\n",
    "    self.list_image_files = [s for s in os.listdir(data_folder)]\n",
    "    self.transform = transform\n",
    "    self.dict_labels = dict_labels\n",
    "    self.labels = [dict_labels[i.split('.')[0]] for i in self.list_image_files]\n",
    "\n",
    "  def __len__(self):\n",
    "    return len(self.list_image_files)\n",
    "\n",
    "  def __getitem__(self, idx):\n",
    "    img_name = os.path.join(self.data_folder, self.list_image_files[idx])\n",
    "    image = Image.open(img_name)\n",
    "    image = self.transform(image)\n",
    "    img_name_short = self.list_image_files[idx].split('.')[0]\n",
    "    label = self.dict_labels[img_name_short]\n",
    "    return image, label"
   ]
  }
 ],
 "metadata": {
  "kernelspec": {
   "display_name": "Python 3.9.10 64-bit",
   "language": "python",
   "name": "python3"
  },
  "language_info": {
   "name": "python",
   "version": "3.9.10"
  },
  "orig_nbformat": 4,
  "vscode": {
   "interpreter": {
    "hash": "57c232428e627ab873b9fb9e5012d6a94660b298a8c8f1f90ef0e13eb6199b14"
   }
  }
 },
 "nbformat": 4,
 "nbformat_minor": 2
}
