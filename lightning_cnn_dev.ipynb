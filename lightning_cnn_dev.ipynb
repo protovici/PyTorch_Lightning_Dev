{
  "nbformat": 4,
  "nbformat_minor": 0,
  "metadata": {
    "colab": {
      "provenance": [],
      "toc_visible": true,
      "authorship_tag": "ABX9TyOBLGYZ2e2R0bmvnvzRI33k",
      "include_colab_link": true
    },
    "kernelspec": {
      "name": "python3",
      "display_name": "Python 3"
    },
    "language_info": {
      "name": "python"
    }
  },
  "cells": [
    {
      "cell_type": "markdown",
      "metadata": {
        "id": "view-in-github",
        "colab_type": "text"
      },
      "source": [
        "<a href=\"https://colab.research.google.com/github/protovici/PyTorch_Lightning_Dev/blob/main/lightning_cnn_dev.ipynb\" target=\"_parent\"><img src=\"https://colab.research.google.com/assets/colab-badge.svg\" alt=\"Open In Colab\"/></a>"
      ]
    },
    {
      "cell_type": "markdown",
      "source": [
        "## Building a CNN model for image recognition | Page 38"
      ],
      "metadata": {
        "id": "QwY6s1DHZ1DO"
      }
    },
    {
      "cell_type": "code",
      "execution_count": 1,
      "metadata": {
        "id": "-F0Phar2DRii",
        "colab": {
          "base_uri": "https://localhost:8080/"
        },
        "outputId": "53764de0-8bb1-4e50-d90e-be7f660f5407"
      },
      "outputs": [
        {
          "output_type": "stream",
          "name": "stdout",
          "text": [
            "\u001b[K     |██████████████████████████████▎ | 834.1 MB 1.3 MB/s eta 0:00:38tcmalloc: large alloc 1147494400 bytes == 0x663f6000 @  0x7fb19e7d2615 0x58ead6 0x4f355e 0x4d222f 0x51041f 0x5b4ee6 0x58ff2e 0x510325 0x5b4ee6 0x58ff2e 0x50d482 0x4d00fb 0x50cb8d 0x4d00fb 0x50cb8d 0x4d00fb 0x50cb8d 0x4bac0a 0x538a76 0x590ae5 0x510280 0x5b4ee6 0x58ff2e 0x50d482 0x5b4ee6 0x58ff2e 0x50c4fc 0x58fd37 0x50ca37 0x5b4ee6 0x58ff2e\n",
            "\u001b[K     |████████████████████████████████| 881.9 MB 18 kB/s \n",
            "\u001b[K     |████████████████████████████████| 23.3 MB 13.1 MB/s \n",
            "\u001b[K     |████████████████████████████████| 8.0 MB 4.2 MB/s \n",
            "\u001b[K     |████████████████████████████████| 2.9 MB 37.7 MB/s \n",
            "\u001b[K     |████████████████████████████████| 1.0 MB 9.1 MB/s \n",
            "\u001b[K     |████████████████████████████████| 529 kB 37.1 MB/s \n",
            "\u001b[K     |████████████████████████████████| 829 kB 53.2 MB/s \n",
            "\u001b[?25h  Building wheel for future (setup.py) ... \u001b[?25l\u001b[?25hdone\n",
            "Looking in indexes: https://pypi.org/simple, https://us-python.pkg.dev/colab-wheels/public/simple/\n",
            "Requirement already satisfied: seaborn==0.11.2 in /usr/local/lib/python3.7/dist-packages (0.11.2)\n",
            "Requirement already satisfied: pandas>=0.23 in /usr/local/lib/python3.7/dist-packages (from seaborn==0.11.2) (1.3.5)\n",
            "Requirement already satisfied: scipy>=1.0 in /usr/local/lib/python3.7/dist-packages (from seaborn==0.11.2) (1.7.3)\n",
            "Requirement already satisfied: matplotlib>=2.2 in /usr/local/lib/python3.7/dist-packages (from seaborn==0.11.2) (3.2.2)\n",
            "Requirement already satisfied: numpy>=1.15 in /usr/local/lib/python3.7/dist-packages (from seaborn==0.11.2) (1.21.6)\n",
            "Requirement already satisfied: pyparsing!=2.0.4,!=2.1.2,!=2.1.6,>=2.0.1 in /usr/local/lib/python3.7/dist-packages (from matplotlib>=2.2->seaborn==0.11.2) (3.0.9)\n",
            "Requirement already satisfied: kiwisolver>=1.0.1 in /usr/local/lib/python3.7/dist-packages (from matplotlib>=2.2->seaborn==0.11.2) (1.4.4)\n",
            "Requirement already satisfied: cycler>=0.10 in /usr/local/lib/python3.7/dist-packages (from matplotlib>=2.2->seaborn==0.11.2) (0.11.0)\n",
            "Requirement already satisfied: python-dateutil>=2.1 in /usr/local/lib/python3.7/dist-packages (from matplotlib>=2.2->seaborn==0.11.2) (2.8.2)\n",
            "Requirement already satisfied: typing-extensions in /usr/local/lib/python3.7/dist-packages (from kiwisolver>=1.0.1->matplotlib>=2.2->seaborn==0.11.2) (4.1.1)\n",
            "Requirement already satisfied: pytz>=2017.3 in /usr/local/lib/python3.7/dist-packages (from pandas>=0.23->seaborn==0.11.2) (2022.6)\n",
            "Requirement already satisfied: six>=1.5 in /usr/local/lib/python3.7/dist-packages (from python-dateutil>=2.1->matplotlib>=2.2->seaborn==0.11.2) (1.15.0)\n",
            "Looking in indexes: https://pypi.org/simple, https://us-python.pkg.dev/colab-wheels/public/simple/\n",
            "Requirement already satisfied: numpy in /usr/local/lib/python3.7/dist-packages (1.21.6)\n",
            "Looking in indexes: https://pypi.org/simple, https://us-python.pkg.dev/colab-wheels/public/simple/\n",
            "Requirement already satisfied: pandas==1.3.5 in /usr/local/lib/python3.7/dist-packages (1.3.5)\n",
            "Requirement already satisfied: numpy>=1.17.3 in /usr/local/lib/python3.7/dist-packages (from pandas==1.3.5) (1.21.6)\n",
            "Requirement already satisfied: python-dateutil>=2.7.3 in /usr/local/lib/python3.7/dist-packages (from pandas==1.3.5) (2.8.2)\n",
            "Requirement already satisfied: pytz>=2017.3 in /usr/local/lib/python3.7/dist-packages (from pandas==1.3.5) (2022.6)\n",
            "Requirement already satisfied: six>=1.5 in /usr/local/lib/python3.7/dist-packages (from python-dateutil>=2.7.3->pandas==1.3.5) (1.15.0)\n"
          ]
        }
      ],
      "source": [
        "!pip install torch==1.10.0 torchvision==0.11.1 torchtext==0.11.0 torchaudio==0.10.0 --quiet\n",
        "!pip install pytorch-lightning==1.5.2 --quiet\n",
        "!pip install seaborn==0.11.2\n",
        "!pip install numpy\n",
        "!pip install pandas==1.3.5\n",
        "!pip install opendatasets --upgrade --quiet"
      ]
    },
    {
      "cell_type": "code",
      "source": [
        "import os\n",
        "import shutil\n",
        "import opendatasets as od\n",
        "import random\n",
        "import types\n",
        "import pkg_resources\n",
        "import gc\n",
        "import pandas as pd\n",
        "import numpy as np\n",
        "from PIL import Image\n",
        "from sklearn.metrics import confusion_matrix\n",
        "from sklearn.model_selection import train_test_split\n",
        "import matplotlib.pyplot as plt\n",
        "import seaborn as sns\n",
        "import torch\n",
        "from torch import nn, optim\n",
        "from torch.utils.data import DataLoader, Dataset\n",
        "from torch.utils.data.sampler import SubsetRandomSampler\n",
        "from torchvision.datasets import ImageFolder\n",
        "import torchvision.transforms as T\n",
        "from torchvision.utils import make_grid\n",
        "from torchmetrics.functional import accuracy\n",
        "import pytorch_lightning as pl\n",
        "\n",
        "# Set random seed and random seed for all lightning models:\n",
        "RANDOM_SEED=42\n",
        "pl.seed_everything(RANDOM_SEED)\n",
        "\n",
        "# Processing Device(s):\n",
        "processing_device= \"cuda\" if torch.cuda.is_available() else \"cpu\"\n",
        "torch_aval = torch.cuda.is_available()\n",
        "\n",
        "# Labels:\n",
        "lable_1 = 'ENVIRONMENT SET-UP WITH DESCRIPTIONS'\n",
        "lable_2 = 'If NVIDIA-SMI is not found, then CUDA isnt available on this device:'\n",
        "lable_3 = 'ENVIRONMENT IS COMPLETE & STAGED CORRECTLY'\n",
        "\n",
        "def get_imports():\n",
        "\n",
        "    for name, val in globals().items():\n",
        "        if isinstance(val, types.ModuleType):\n",
        "            name = val.__name__.split(\".\")[0]\n",
        "\n",
        "        elif isinstance(val, type):            \n",
        "            name = val.__module__.split(\".\")[0]\n",
        "\n",
        "        poorly_named_packages = {\n",
        "            \"PIL\": \"Pillow\",\n",
        "            \"sklearn\": \"scikit-learn\"\n",
        "        }\n",
        "\n",
        "        if name in poorly_named_packages.keys():\n",
        "            name = poorly_named_packages[name]\n",
        "\n",
        "        yield name\n",
        "\n",
        "imports = list(set(get_imports()))\n",
        "\n",
        "requirements = []\n",
        "for m in pkg_resources.working_set:\n",
        "    if m.project_name in imports and m.project_name!=\"pip\":\n",
        "        requirements.append((m.project_name, m.version))\n",
        "        \n",
        "# Set data paths:\n",
        "IN=r'/content/data/in'\n",
        "OUT=r'/content/data/out'\n",
        "\n",
        "print(f'{lable_1:-^80}')\n",
        "print()\n",
        "print(f\"Location of inbound data: \", IN)\n",
        "print(f\"Location of outbound data: \", OUT)\n",
        "print(f\"Versions: \", requirements)\n",
        "print(f\"Device(s) to Utilize: \", processing_device)\n",
        "print(f\"Is Torch GPU Avaliable?: \", torch_aval)\n",
        "print(f\"# of Devices Found: \", torch.__version__)\n",
        "print(\"Torch version:\",torch.__version__)\n",
        "print(\"Pytorch ligthening version:\",pl.__version__)\n",
        "print()\n",
        "print(f'{lable_2:-^80}')\n",
        "!nvidia-smi\n",
        "gc.collect()\n",
        "print()\n",
        "print(f\"Clear Torch Cuda Memory: \", torch.cuda.empty_cache())\n",
        "print(f'{lable_3:-^80}')"
      ],
      "metadata": {
        "colab": {
          "base_uri": "https://localhost:8080/"
        },
        "id": "pKpJOZkwaDfZ",
        "outputId": "d91a47e4-afd5-4a48-bc2d-62baea3f8bcd"
      },
      "execution_count": 2,
      "outputs": [
        {
          "output_type": "stream",
          "name": "stderr",
          "text": [
            "INFO:pytorch_lightning.utilities.seed:Global seed set to 42\n"
          ]
        },
        {
          "output_type": "stream",
          "name": "stdout",
          "text": [
            "----------------------ENVIRONMENT SET-UP WITH DESCRIPTIONS----------------------\n",
            "\n",
            "Location of inbound data:  /content/data/in\n",
            "Location of outbound data:  /content/data/out\n",
            "Versions:  [('torchvision', '0.13.1+cu113'), ('torch', '1.12.1+cu113'), ('seaborn', '0.11.2'), ('Pillow', '7.1.2'), ('pandas', '1.3.5'), ('numpy', '1.21.6'), ('matplotlib', '3.2.2')]\n",
            "Device(s) to Utilize:  cpu\n",
            "Is Torch GPU Avaliable?:  False\n",
            "# of Devices Found:  1.10.0+cu102\n",
            "Torch version: 1.10.0+cu102\n",
            "Pytorch ligthening version: 1.5.2\n",
            "\n",
            "------If NVIDIA-SMI is not found, then CUDA isnt available on this device:------\n",
            "NVIDIA-SMI has failed because it couldn't communicate with the NVIDIA driver. Make sure that the latest NVIDIA driver is installed and running.\n",
            "\n",
            "\n",
            "Clear Torch Cuda Memory:  None\n",
            "-------------------ENVIRONMENT IS COMPLETE & STAGED CORRECTLY-------------------\n"
          ]
        }
      ]
    },
    {
      "cell_type": "code",
      "source": [],
      "metadata": {
        "id": "oZo1FwVYbiSw"
      },
      "execution_count": null,
      "outputs": []
    }
  ]
}